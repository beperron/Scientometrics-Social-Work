{
 "cells": [
  {
   "cell_type": "code",
   "execution_count": 20,
   "id": "ed1cfcd1-2374-4ebb-82ee-8d4270eb1b45",
   "metadata": {},
   "outputs": [],
   "source": [
    "import pandas as pd\n",
    "import spacy\n",
    "import os\n",
    "from pathlib import Path"
   ]
  },
  {
   "cell_type": "code",
   "execution_count": 21,
   "id": "bdfa3053-4b9c-4dcf-be0e-18eba3a684f2",
   "metadata": {},
   "outputs": [],
   "source": [
    "Path_read_data = Path('/Users/brian/Coding/data/SocialWorkJournals/')\n",
    "Path_write_data = Path('/Users/brian/Coding/Scientometrics-Social-Work')\n",
    "\n",
    "pd.options.display.max_colwidth = 80"
   ]
  },
  {
   "cell_type": "code",
   "execution_count": 22,
   "id": "fcae8633-813f-492a-90f8-c0659026112d",
   "metadata": {},
   "outputs": [],
   "source": [
    "df = pd.read_csv(Path_read_data.joinpath('SocialWork_2014_2021.csv'))"
   ]
  },
  {
   "cell_type": "code",
   "execution_count": 49,
   "id": "82ebe551-ee70-4240-a3d3-cc8f58162d73",
   "metadata": {},
   "outputs": [],
   "source": [
    "df.sample(n = 10).to_csv('LabelBoxExample.csv', index=False)"
   ]
  },
  {
   "cell_type": "markdown",
   "id": "03d31f95-8ece-4ed1-8abf-bb4a62cf22f9",
   "metadata": {
    "tags": []
   },
   "source": [
    "# Initial testing"
   ]
  },
  {
   "cell_type": "code",
   "execution_count": 40,
   "id": "1fc1e859-18ff-456c-b708-7924d6f736a6",
   "metadata": {},
   "outputs": [],
   "source": [
    "df = df[['abstract']]\n",
    "range_value = df_test.shape[0]\n",
    "df['id'] = range(0,range_value)\n",
    "df.rename(columns = {\"abstract\":\"text\"}, inplace=True)"
   ]
  },
  {
   "cell_type": "code",
   "execution_count": 41,
   "id": "7d537f92-6da4-4a68-a800-1fbebe764f95",
   "metadata": {},
   "outputs": [
    {
     "data": {
      "text/html": [
       "<div>\n",
       "<style scoped>\n",
       "    .dataframe tbody tr th:only-of-type {\n",
       "        vertical-align: middle;\n",
       "    }\n",
       "\n",
       "    .dataframe tbody tr th {\n",
       "        vertical-align: top;\n",
       "    }\n",
       "\n",
       "    .dataframe thead th {\n",
       "        text-align: right;\n",
       "    }\n",
       "</style>\n",
       "<table border=\"1\" class=\"dataframe\">\n",
       "  <thead>\n",
       "    <tr style=\"text-align: right;\">\n",
       "      <th></th>\n",
       "      <th>text</th>\n",
       "      <th>id</th>\n",
       "    </tr>\n",
       "  </thead>\n",
       "  <tbody>\n",
       "    <tr>\n",
       "      <th>0</th>\n",
       "      <td>In March 2020, as American PreK-12 schools shut down and moved into online l...</td>\n",
       "      <td>0</td>\n",
       "    </tr>\n",
       "    <tr>\n",
       "      <th>1</th>\n",
       "      <td>Since March 2020, families across the United States have faced challenges du...</td>\n",
       "      <td>1</td>\n",
       "    </tr>\n",
       "    <tr>\n",
       "      <th>2</th>\n",
       "      <td>This research project is intended to address the dearth of information regar...</td>\n",
       "      <td>2</td>\n",
       "    </tr>\n",
       "    <tr>\n",
       "      <th>3</th>\n",
       "      <td>Microaggressions, or subtle forms of discrimination, are associated with poo...</td>\n",
       "      <td>3</td>\n",
       "    </tr>\n",
       "    <tr>\n",
       "      <th>4</th>\n",
       "      <td>The purpose of this study was to compare the coping strategies between homel...</td>\n",
       "      <td>4</td>\n",
       "    </tr>\n",
       "  </tbody>\n",
       "</table>\n",
       "</div>"
      ],
      "text/plain": [
       "                                                                              text  \\\n",
       "0  In March 2020, as American PreK-12 schools shut down and moved into online l...   \n",
       "1  Since March 2020, families across the United States have faced challenges du...   \n",
       "2  This research project is intended to address the dearth of information regar...   \n",
       "3  Microaggressions, or subtle forms of discrimination, are associated with poo...   \n",
       "4  The purpose of this study was to compare the coping strategies between homel...   \n",
       "\n",
       "   id  \n",
       "0   0  \n",
       "1   1  \n",
       "2   2  \n",
       "3   3  \n",
       "4   4  "
      ]
     },
     "execution_count": 41,
     "metadata": {},
     "output_type": "execute_result"
    }
   ],
   "source": [
    "df.head()"
   ]
  },
  {
   "cell_type": "code",
   "execution_count": 35,
   "id": "8a8b5ad7-414c-48ec-b3e8-0655e15bc1ae",
   "metadata": {},
   "outputs": [
    {
     "data": {
      "text/plain": [
       "'/Users/brian/Coding/Scientometrics-Social-Work'"
      ]
     },
     "execution_count": 35,
     "metadata": {},
     "output_type": "execute_result"
    }
   ],
   "source": [
    "pwd"
   ]
  },
  {
   "cell_type": "code",
   "execution_count": 42,
   "id": "850fc4c2-b7ac-4c3f-b3f3-829f5ab33585",
   "metadata": {},
   "outputs": [],
   "source": [
    "df.to_csv('abstracts.csv', index = False)"
   ]
  },
  {
   "cell_type": "code",
   "execution_count": 33,
   "id": "a34c13ac-8147-46d3-a5fe-76e324ddfbbe",
   "metadata": {},
   "outputs": [
    {
     "name": "stdout",
     "output_type": "stream",
     "text": [
      "\u001b[38;5;4mℹ Initializing with 5 seed terms\u001b[0m\n",
      "significant, analyzed, collected, examined, predicted\n",
      "\n",
      "✨  Starting the web server at http://localhost:8080 ...\n",
      "Open the app in your browser and start annotating!\n",
      "\n",
      "^C\n",
      "\n",
      "\u001b[38;5;2m✔ Saved 10 annotations to database SQLite\u001b[0m\n",
      "Dataset: sw_seeds\n",
      "Session ID: 2021-09-30_13-34-31\n",
      "\n"
     ]
    }
   ],
   "source": [
    "!prodigy terms.teach sw_seeds en_core_web_lg --seeds \"analyzed, collected, significant, predicted, examined\""
   ]
  },
  {
   "cell_type": "code",
   "execution_count": 34,
   "id": "16c1467a-955c-41b8-95d3-0b8b37a7a7be",
   "metadata": {},
   "outputs": [
    {
     "name": "stdout",
     "output_type": "stream",
     "text": [
      "\u001b[38;5;2m✔ Exported 27 patterns\u001b[0m\n",
      "./sw_lang_pattern.jsonl\n"
     ]
    }
   ],
   "source": [
    "!prodigy terms.to-patterns sw_seeds ./sw_lang_pattern.jsonl --label EMPIRICAL --spacy-model blank:en"
   ]
  },
  {
   "cell_type": "code",
   "execution_count": 43,
   "id": "035fb09a-af35-4a15-ac66-375c34277bf7",
   "metadata": {},
   "outputs": [
    {
     "name": "stdout",
     "output_type": "stream",
     "text": [
      "Using 1 label(s): EMPIRICAL\n",
      "\n",
      "✨  Starting the web server at http://localhost:8080 ...\n",
      "Open the app in your browser and start annotating!\n",
      "\n",
      "^C\n",
      "\n",
      "\u001b[38;5;2m✔ Saved 280 annotations to database SQLite\u001b[0m\n",
      "Dataset: sw_reserach_exp1\n",
      "Session ID: 2021-09-30_13-39-12\n",
      "\n"
     ]
    }
   ],
   "source": [
    "!prodigy textcat.teach sw_reserach_exp1 en_core_web_lg abstracts.csv --loader csv --label EMPIRICAL --patterns ./sw_lang_pattern.jsonl"
   ]
  },
  {
   "cell_type": "code",
   "execution_count": 46,
   "id": "bf01c268-cc11-4f2d-b172-aa9b29f46da8",
   "metadata": {},
   "outputs": [
    {
     "name": "stdout",
     "output_type": "stream",
     "text": [
      "\u001b[38;5;4mℹ Using CPU\u001b[0m\n",
      "\u001b[1m\n",
      "========================= Generating Prodigy config =========================\u001b[0m\n",
      "\u001b[38;5;4mℹ Auto-generating config with spaCy\u001b[0m\n",
      "\u001b[38;5;2m✔ Generated training config\u001b[0m\n",
      "\u001b[1m\n",
      "=========================== Initializing pipeline ===========================\u001b[0m\n",
      "[2021-09-30 14:11:23,605] [INFO] Set up nlp object from config\n",
      "Components: textcat_multilabel\n",
      "Merging training and evaluation data for 1 components\n",
      "  - [textcat_multilabel] Training: 196 | Evaluation: 84 (30% split)\n",
      "Training: 175 | Evaluation: 80\n",
      "Labels: textcat_multilabel (1)\n",
      "[2021-09-30 14:11:23,636] [INFO] Pipeline: ['textcat_multilabel']\n",
      "[2021-09-30 14:11:23,638] [INFO] Created vocabulary\n",
      "[2021-09-30 14:11:23,639] [INFO] Finished initializing nlp object\n",
      "[2021-09-30 14:11:23,919] [INFO] Initialized pipeline components: ['textcat_multilabel']\n",
      "\u001b[38;5;2m✔ Initialized pipeline\u001b[0m\n",
      "\u001b[1m\n",
      "============================= Training pipeline =============================\u001b[0m\n",
      "Components: textcat_multilabel\n",
      "Merging training and evaluation data for 1 components\n",
      "  - [textcat_multilabel] Training: 196 | Evaluation: 84 (30% split)\n",
      "Training: 175 | Evaluation: 80\n",
      "Labels: textcat_multilabel (1)\n",
      "\u001b[38;5;4mℹ Pipeline: ['textcat_multilabel']\u001b[0m\n",
      "\u001b[38;5;4mℹ Initial learn rate: 0.001\u001b[0m\n",
      "E    #       LOSS TEXTC...  CATS_SCORE  SCORE \n",
      "---  ------  -------------  ----------  ------\n",
      "  0       0           0.25       59.08    0.59\n",
      "  1     200          36.57       92.73    0.93\n",
      "  2     400           8.40       93.99    0.94\n",
      "  3     600           1.65       93.85    0.94\n",
      "  4     800           0.49       93.71    0.94\n",
      "  5    1000           0.36       93.57    0.94\n",
      "  6    1200           0.24       93.85    0.94\n",
      "  8    1400           0.16       93.71    0.94\n",
      "  9    1600           0.10       93.71    0.94\n",
      " 11    1800           0.04       93.71    0.94\n",
      " 13    2000           0.02       93.64    0.94\n",
      "\u001b[38;5;2m✔ Saved pipeline to output directory\u001b[0m\n",
      "en_core_web_lg/model-last\n"
     ]
    }
   ],
   "source": [
    "!prodigy train --textcat-multilabel sw_reserach_exp1 en_core_web_lg --eval-split .30"
   ]
  },
  {
   "cell_type": "code",
   "execution_count": 47,
   "id": "a772cd1f-0c5c-4e1e-8d37-63073f361b3c",
   "metadata": {},
   "outputs": [
    {
     "name": "stdout",
     "output_type": "stream",
     "text": [
      "\u001b[1m\n",
      "========================= Generating Prodigy config =========================\u001b[0m\n",
      "\u001b[38;5;4mℹ Auto-generating config with spaCy\u001b[0m\n",
      "\u001b[38;5;2m✔ Generated training config\u001b[0m\n",
      "\u001b[1m\n",
      "=========================== Train curve diagnostic ===========================\u001b[0m\n",
      "Training 4 times with 25%, 50%, 75%, 100% of the data\n",
      "\n",
      "%      Score    textcat_multilabel\n",
      "----   ------   ------\n",
      "  0%   0.66     0.66  \n",
      " 25%   0.80 ▲   0.80 ▲\n",
      " 50%   0.87 ▲   0.87 ▲\n",
      " 75%   0.88 ▲   0.88 ▲\n",
      "100%   0.90 ▲   0.90 ▲\n",
      "\n",
      "    ┌──────────────────────────────────┐\n",
      "0.90┤                         •••••••••│\n",
      "0.87┤                 ••••••••         │\n",
      "    │             ••••                 │\n",
      "0.80┤        •••••                     │\n",
      "    │       •                          │\n",
      "    │     ••                           │\n",
      "    │    •                             │\n",
      "    │  ••                              │\n",
      "0.66┤••                                │\n",
      "    └┬───────┬────────┬───────┬───────┬┘\n",
      "     0%     25%      50%     75%    100%\n",
      "\n",
      "\n",
      "\u001b[38;5;2m✔ Accuracy improved in the last sample\u001b[0m\n",
      "As a rule of thumb, if accuracy increases in the last segment, this could\n",
      "indicate that collecting more annotations of the same type will improve the\n",
      "model further.\n"
     ]
    }
   ],
   "source": [
    "!prodigy train-curve --textcat-multilabel sw_reserach_exp1 --show-plot"
   ]
  }
 ],
 "metadata": {
  "kernelspec": {
   "display_name": "Python 3 (ipykernel)",
   "language": "python",
   "name": "python3"
  },
  "language_info": {
   "codemirror_mode": {
    "name": "ipython",
    "version": 3
   },
   "file_extension": ".py",
   "mimetype": "text/x-python",
   "name": "python",
   "nbconvert_exporter": "python",
   "pygments_lexer": "ipython3",
   "version": "3.8.11"
  }
 },
 "nbformat": 4,
 "nbformat_minor": 5
}
