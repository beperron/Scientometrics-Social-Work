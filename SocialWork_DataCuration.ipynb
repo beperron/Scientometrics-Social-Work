{
 "cells": [
  {
   "cell_type": "markdown",
   "id": "f0d834d8-8224-4d81-99cf-3ed728965ef3",
   "metadata": {},
   "source": [
    "# Overview\n",
    "\n"
   ]
  },
  {
   "cell_type": "code",
   "execution_count": 1,
   "id": "7a2fe73e-618d-473e-acb9-544d0c6aea3a",
   "metadata": {},
   "outputs": [],
   "source": [
    "import pandas as pd\n",
    "import re\n",
    "from glob import glob\n",
    "from pathlib import Path\n",
    "import os\n",
    "from pprint import pprint\n",
    "from RISparser import readris\n",
    "import nbib\n",
    "import time"
   ]
  },
  {
   "cell_type": "code",
   "execution_count": 2,
   "id": "eb9aefe6-b4bc-4f6c-9d51-15929b4e2138",
   "metadata": {},
   "outputs": [],
   "source": [
    "start_time = time.time()\n",
    "pd.options.display.max_columns = None\n"
   ]
  },
  {
   "cell_type": "code",
   "execution_count": 3,
   "id": "e556c004-9da7-4617-9758-ab1e78337be9",
   "metadata": {},
   "outputs": [],
   "source": [
    "df = pd.read_csv('/Users/brian/Coding/COVID-research/data/Journals.csv')\n",
    "df = df['Journals'].tolist()"
   ]
  },
  {
   "cell_type": "markdown",
   "id": "19cc9e24-3a16-47ed-a6ce-f39d6a94a4aa",
   "metadata": {
    "tags": []
   },
   "source": [
    "# Create formatted query\n",
    "\n",
    "This section takes the journal list and produces a formatted query to search the three major databases.  The procedure involves pasting search operators around the journal names and concatenating everything into a single query that can be copied from the notebook and pasted directly into the search bar.  All searches were performed on September 22, 2021.  \n",
    "\n"
   ]
  },
  {
   "cell_type": "markdown",
   "id": "916018b9-ff7f-4d6e-aa90-f64b2c430199",
   "metadata": {
    "tags": []
   },
   "source": [
    "### _Web of science_\n",
    "The Web of Science (WoS) was specified to capture all records from January 1, 2014 through September 22, 2021.  The exports were made to include all the cited references to each article.  By doing so, the batch limit for export was limited to 500 records.  The records were downloaded as tab-demilited files. The files were then combined and processed using this notebook.   \n",
    "\n",
    "```\n",
    "web_of_science = ' OR '.join(df)\n",
    "web_of_science = \"SO = \" + \"(\" + web_of_science + \")\"\n",
    "```"
   ]
  },
  {
   "cell_type": "markdown",
   "id": "73be78af-622d-40e1-a774-a1ab21406bfe",
   "metadata": {
    "tags": []
   },
   "source": [
    "### _PubMed_ \n",
    "PubMed contains only a subset of social work journals.  No date limits were put on the search.  The search produced 10,033 articles, going back to the 1970's.  The maximum number of records that can be extracted is 10,000.  Thus, the search results were sorted in the web interface from newest to oldest, and then the extraction was made.  Thus, 33 articles were not retaiend, but these are the oldest records that will not be used in our current work.  Additonally the current cleaning script also excludes all articles publised before 2014.  The extract from PubMed was in a standard RIS format (\\*.nbib).  This file was imported into Zotero, exported as a csv file, and processed with this notebook.  \n",
    "\n",
    "```\n",
    "pub_med = pub_med = [\"(\\\"\" + k +\"\\\"[Journal])\" for k in df]\n",
    "pub_med = ' OR '.join(pub_med)\n",
    "```"
   ]
  },
  {
   "cell_type": "markdown",
   "id": "d9538771-18ff-4fba-acb1-397b6f31efc7",
   "metadata": {
    "tags": []
   },
   "source": [
    "### _EBSCOhost_\n",
    "\n",
    "Search was performed on September 22, 2021 using the followign search, capturing everything published since 2014 (inclusive).  For this pull, I extracted article records with all the cited references.  In doing so, the extract batch limit was 500, whereas the article records without the cited references allows for batches of 1,000.  The files were saved in a RIS format, which is used by bibliogrphy managers, like Zotero and EndNote.  To process these files, we used a Python module called `RISparsers`.  This converted the files to a Pandas dataframe, which was then prepared for analysis.   \n",
    "\n",
    "* Social Work Abstracts\n",
    "* APA PsycInfo\n",
    "* Abstracts in Social Gerontology;\n",
    "* Child Development & Adolescent Studies;\n",
    "* Family Studies Abstracts;\n",
    "* Political Science Complete;\n",
    "* Violence & Abuse Abstracts;\n",
    "* Women's Studies International\n",
    "\n",
    "```\n",
    "ebsco = [\"SO \" + \"\\\"\" + k + \"\\\"\" +  \" OR\" for k in df]\n",
    "ebsco = \" \".join(ebsco) \n",
    "ebsco = re.sub(\"OR$\", \"\", ebsco)\n",
    "```"
   ]
  },
  {
   "cell_type": "markdown",
   "id": "ddecd4a9-de9f-4fbe-a041-39663cb70348",
   "metadata": {
    "tags": []
   },
   "source": [
    "# Data Preparation\n",
    "\n",
    "This section prepares the data for cleaning.  Each "
   ]
  },
  {
   "cell_type": "markdown",
   "id": "4f60d3bf-5e50-4bb8-ab90-5ea3e3b61f96",
   "metadata": {},
   "source": [
    "### Prepare _Web of Science_"
   ]
  },
  {
   "cell_type": "code",
   "execution_count": 4,
   "id": "aa11c484-9210-4439-aa66-91bac1052fdd",
   "metadata": {},
   "outputs": [
    {
     "name": "stdout",
     "output_type": "stream",
     "text": [
      "/Users/brian/Coding/Data/SocialWorkJournals/WoS\n"
     ]
    }
   ],
   "source": [
    "# Read and combine the WoS data files\n",
    "\n",
    "%cd /Users/brian/Coding/Data/SocialWorkJournals/WoS\n",
    "wos = glob('save*.txt')\n",
    "\n",
    "wos = pd.DataFrame()\n",
    "for f in glob(\"save*.txt\"):\n",
    "    wos = pd.read_table(f, sep = \"\\t\", skip_blank_lines=True,\\\n",
    "                        engine = \"python\",\\\n",
    "                        header=0,\\\n",
    "                        usecols=([0,4,7,8,11,12,18,19,20,21,22,23,\\\n",
    "                                 25,26,27,28,29,31,34,40,\\\n",
    "                                 41,42,43,55,60,61,62,65]),\\\n",
    "                        parse_dates = True,\\\n",
    "                        infer_datetime_format = True, \n",
    "                        quotechar=\"\\\"\", \n",
    "                        on_bad_lines = \"skip\")\n",
    "    wos = wos.append(wos,ignore_index=True)\n",
    "\n",
    "\n",
    "# The columns are incorrectly named in the file.  This procedure renames the \n",
    "# column retrieved.  This mistake can be observed by looking at the raw\n",
    "# text files.  \n",
    "wos.columns = ['authors', 'author_full_name', 'article_title', 'journal', 'language',\n",
    "       'document_type', 'keywords_au', 'keywords_journal', 'abstract',\n",
    "       'author_address', 'corresponding_author', 'email_address', 'ID_ORCID',\n",
    "       'funding_agency', 'funding_text', 'cited_references',\n",
    "       'cited_reference_count', 'total_times_cited', 'publisher',\n",
    "       'journal_abbv', 'journal_abbv_dot', 'publication_date',\n",
    "       'publication_year', 'early_access_date', 'ID_database', 'ID_PubMed',\n",
    "       'open_access_indicator', 'date_of_data_pull']"
   ]
  },
  {
   "cell_type": "code",
   "execution_count": 5,
   "id": "0a12b9f5-ad5f-48c5-93f9-f1d68b4df4bb",
   "metadata": {},
   "outputs": [],
   "source": [
    "wos['data_source'] = \"wos\"\n",
    "\n",
    "wos = wos[['ID_database', 'authors', 'article_title', 'journal', 'language', 'document_type',\n",
    "           'abstract', 'author_address', 'cited_references', 'journal_abbv', 'publication_date',\n",
    "           'publication_year', 'early_access_date', 'ID_PubMed', 'open_access_indicator',\n",
    "           'date_of_data_pull']]\n",
    "\n",
    "wos['early_access_date'] = pd.to_datetime(wos['early_access_date'])\n",
    "wos['ID_database'] = wos['ID_database'].str.extract('(\\d+)')\n",
    "    \n"
   ]
  },
  {
   "cell_type": "markdown",
   "id": "67258bfd-226c-4c4e-9c1a-4f25d0a02caf",
   "metadata": {},
   "source": [
    "### Prepare _PubMed_"
   ]
  },
  {
   "cell_type": "markdown",
   "id": "99eb74e4-4f9d-43d6-a9c6-eb24bbacb3c0",
   "metadata": {},
   "source": [
    "WARNING: The scripts dateadd and datediff are installed in '/Users/brian/.local/bin' which is not on PATH.\n",
    "  Consider adding this directory to PATH or, if you prefer to suppress this warning, use --no-warn-script-location."
   ]
  },
  {
   "cell_type": "code",
   "execution_count": 6,
   "id": "65bba94e-2dfe-40ec-9ce6-cb3e27fb58d3",
   "metadata": {},
   "outputs": [
    {
     "name": "stdout",
     "output_type": "stream",
     "text": [
      "/Users/brian/Coding/Data/SocialWorkJournals/PubMed\n"
     ]
    },
    {
     "data": {
      "text/plain": [
       "(10000, 39)"
      ]
     },
     "execution_count": 6,
     "metadata": {},
     "output_type": "execute_result"
    }
   ],
   "source": [
    "%cd '/Users/brian/Coding/Data/SocialWorkJournals/PubMed'\n",
    "files = glob('/Users/brian/Coding/Data/SocialWorkJournals/PubMed/pubmed_2021_09_22.nbib')\n",
    "\n",
    "refs = nbib.read_file('/Users/brian/Coding/Data/SocialWorkJournals/PubMed/pubmed_2021_09_22.nbib')\n",
    "#refs = nbib.read_file(files) \n",
    "pubmed = pd.DataFrame.from_dict(refs)\n",
    "pubmed.shape"
   ]
  },
  {
   "cell_type": "code",
   "execution_count": 7,
   "id": "32197a86-44a8-4bcd-8377-9786f1006dc6",
   "metadata": {},
   "outputs": [
    {
     "data": {
      "text/plain": [
       "Index(['pubmed_id', 'citation_owner', 'nlm_status', 'last_revision_date',\n",
       "       'print_issn', 'electronic_issn', 'linking_issn', 'publication_date',\n",
       "       'title', 'abstract', 'copyright', 'authors', 'language',\n",
       "       'publication_types', 'electronic_publication_date',\n",
       "       'journal_abbreviated', 'journal', 'nlm_journal_id', 'pmcid', 'keywords',\n",
       "       'conflict_of_interest', 'received_time', 'revised_time',\n",
       "       'accepted_time', 'entrez_time', 'pubmed_time', 'medline_time', 'pii',\n",
       "       'doi', 'publication_status', 'pages', 'place_of_publication',\n",
       "       'journal_volume', 'journal_issue', 'grants', 'pmc-release_time',\n",
       "       'descriptors', 'secondary_source', 'corporate_author'],\n",
       "      dtype='object')"
      ]
     },
     "execution_count": 7,
     "metadata": {},
     "output_type": "execute_result"
    }
   ],
   "source": [
    "pubmed.columns"
   ]
  },
  {
   "cell_type": "code",
   "execution_count": 8,
   "id": "faa61b1d-905e-47be-8ea1-65087207d485",
   "metadata": {},
   "outputs": [
    {
     "data": {
      "text/html": [
       "<div>\n",
       "<style scoped>\n",
       "    .dataframe tbody tr th:only-of-type {\n",
       "        vertical-align: middle;\n",
       "    }\n",
       "\n",
       "    .dataframe tbody tr th {\n",
       "        vertical-align: top;\n",
       "    }\n",
       "\n",
       "    .dataframe thead th {\n",
       "        text-align: right;\n",
       "    }\n",
       "</style>\n",
       "<table border=\"1\" class=\"dataframe\">\n",
       "  <thead>\n",
       "    <tr style=\"text-align: right;\">\n",
       "      <th></th>\n",
       "      <th>pubmed_id</th>\n",
       "      <th>publication_date</th>\n",
       "      <th>article_title</th>\n",
       "      <th>abstract</th>\n",
       "      <th>authors</th>\n",
       "      <th>language</th>\n",
       "      <th>document_type</th>\n",
       "      <th>journal_abbv</th>\n",
       "      <th>journal</th>\n",
       "      <th>medline_time</th>\n",
       "      <th>place_of_publication</th>\n",
       "    </tr>\n",
       "  </thead>\n",
       "  <tbody>\n",
       "    <tr>\n",
       "      <th>0</th>\n",
       "      <td>34548838</td>\n",
       "      <td>2021 Jul 24</td>\n",
       "      <td>Risk and protective factors associated with gr...</td>\n",
       "      <td>COVID-19 and its related policy measures have ...</td>\n",
       "      <td>[{'author': 'Xu, Yanfeng', 'author_abbreviated...</td>\n",
       "      <td>eng</td>\n",
       "      <td>[Journal Article]</td>\n",
       "      <td>Child Fam Soc Work</td>\n",
       "      <td>Child &amp; family social work</td>\n",
       "      <td>2021-09-23 06:00:00</td>\n",
       "      <td>NaN</td>\n",
       "    </tr>\n",
       "    <tr>\n",
       "      <th>1</th>\n",
       "      <td>34545773</td>\n",
       "      <td>2021 Sep 21</td>\n",
       "      <td>Grandparents' Mental Health and Lived Experien...</td>\n",
       "      <td>Understanding grandparents' lived experiences ...</td>\n",
       "      <td>[{'author': 'Zakari, Nazik M A', 'author_abbre...</td>\n",
       "      <td>eng</td>\n",
       "      <td>[Journal Article]</td>\n",
       "      <td>J Gerontol Soc Work</td>\n",
       "      <td>Journal of gerontological social work</td>\n",
       "      <td>2021-09-22 06:00:00</td>\n",
       "      <td>United States</td>\n",
       "    </tr>\n",
       "    <tr>\n",
       "      <th>2</th>\n",
       "      <td>34545771</td>\n",
       "      <td>2021 Sep 21</td>\n",
       "      <td>A COVID Reset: The Future of the Long-Term Car...</td>\n",
       "      <td>NaN</td>\n",
       "      <td>[{'author': 'Nelson, H Wayne', 'author_abbrevi...</td>\n",
       "      <td>eng</td>\n",
       "      <td>[Journal Article]</td>\n",
       "      <td>J Gerontol Soc Work</td>\n",
       "      <td>Journal of gerontological social work</td>\n",
       "      <td>2021-09-22 06:00:00</td>\n",
       "      <td>United States</td>\n",
       "    </tr>\n",
       "    <tr>\n",
       "      <th>3</th>\n",
       "      <td>34542018</td>\n",
       "      <td>2021 Sep 19</td>\n",
       "      <td>Experiences of LGBTQ Adults Who Have Accessed ...</td>\n",
       "      <td>This study examines the experiences of adults ...</td>\n",
       "      <td>[{'author': 'Ecker, John', 'author_abbreviated...</td>\n",
       "      <td>eng</td>\n",
       "      <td>[Journal Article]</td>\n",
       "      <td>Soc Work Public Health</td>\n",
       "      <td>Social work in public health</td>\n",
       "      <td>2021-09-21 06:00:00</td>\n",
       "      <td>United States</td>\n",
       "    </tr>\n",
       "    <tr>\n",
       "      <th>4</th>\n",
       "      <td>34533421</td>\n",
       "      <td>2021 Sep 17</td>\n",
       "      <td>Perceptions of older adults? Measuring positiv...</td>\n",
       "      <td>The COVID-19 pandemic has disproportionately i...</td>\n",
       "      <td>[{'author': 'Carlson, Kristy J', 'author_abbre...</td>\n",
       "      <td>eng</td>\n",
       "      <td>[Journal Article]</td>\n",
       "      <td>J Gerontol Soc Work</td>\n",
       "      <td>Journal of gerontological social work</td>\n",
       "      <td>2021-09-18 06:00:00</td>\n",
       "      <td>United States</td>\n",
       "    </tr>\n",
       "    <tr>\n",
       "      <th>...</th>\n",
       "      <td>...</td>\n",
       "      <td>...</td>\n",
       "      <td>...</td>\n",
       "      <td>...</td>\n",
       "      <td>...</td>\n",
       "      <td>...</td>\n",
       "      <td>...</td>\n",
       "      <td>...</td>\n",
       "      <td>...</td>\n",
       "      <td>...</td>\n",
       "      <td>...</td>\n",
       "    </tr>\n",
       "    <tr>\n",
       "      <th>9995</th>\n",
       "      <td>828309</td>\n",
       "      <td>1976 Summer</td>\n",
       "      <td>Social work in the nursing home: a need and an...</td>\n",
       "      <td>Working on a Nursing Home Demonstration Projec...</td>\n",
       "      <td>[{'author': 'Jorgensen, L A', 'author_abbrevia...</td>\n",
       "      <td>eng</td>\n",
       "      <td>[Journal Article, Research Support, U.S. Gov't...</td>\n",
       "      <td>Soc Work Health Care</td>\n",
       "      <td>Social work in health care</td>\n",
       "      <td>1976-01-01 00:01:00</td>\n",
       "      <td>United States</td>\n",
       "    </tr>\n",
       "    <tr>\n",
       "      <th>9996</th>\n",
       "      <td>828308</td>\n",
       "      <td>1976 Spring</td>\n",
       "      <td>Soft services: a major, cost-effective compone...</td>\n",
       "      <td>NaN</td>\n",
       "      <td>[{'author': 'Nason, F', 'author_abbreviated': ...</td>\n",
       "      <td>eng</td>\n",
       "      <td>[Case Reports, Journal Article]</td>\n",
       "      <td>Soc Work Health Care</td>\n",
       "      <td>Social work in health care</td>\n",
       "      <td>1976-01-01 00:01:00</td>\n",
       "      <td>United States</td>\n",
       "    </tr>\n",
       "    <tr>\n",
       "      <th>9997</th>\n",
       "      <td>798320</td>\n",
       "      <td>1976 Spring</td>\n",
       "      <td>Dialysis and transplantation: a mothers' group.</td>\n",
       "      <td>Two social workers are helping mothers of tran...</td>\n",
       "      <td>[{'author': 'Glass, L', 'author_abbreviated': ...</td>\n",
       "      <td>eng</td>\n",
       "      <td>[Journal Article]</td>\n",
       "      <td>Soc Work Health Care</td>\n",
       "      <td>Social work in health care</td>\n",
       "      <td>1976-01-01 00:01:00</td>\n",
       "      <td>United States</td>\n",
       "    </tr>\n",
       "    <tr>\n",
       "      <th>9998</th>\n",
       "      <td>138954</td>\n",
       "      <td>1976 Fall</td>\n",
       "      <td>The social work component in community-based a...</td>\n",
       "      <td>When the Delaware Valley chapter of the Commit...</td>\n",
       "      <td>[{'author': 'Miller, E', 'author_abbreviated':...</td>\n",
       "      <td>eng</td>\n",
       "      <td>[Journal Article]</td>\n",
       "      <td>Soc Work Health Care</td>\n",
       "      <td>Social work in health care</td>\n",
       "      <td>1976-01-01 00:01:00</td>\n",
       "      <td>United States</td>\n",
       "    </tr>\n",
       "    <tr>\n",
       "      <th>9999</th>\n",
       "      <td>138953</td>\n",
       "      <td>1976 Fall</td>\n",
       "      <td>Psychosocial aspects of genetic counseling.</td>\n",
       "      <td>A competent and effective genetic counselor mu...</td>\n",
       "      <td>[{'author': 'Murray, R F Jr', 'author_abbrevia...</td>\n",
       "      <td>eng</td>\n",
       "      <td>[Journal Article, Research Support, U.S. Gov't...</td>\n",
       "      <td>Soc Work Health Care</td>\n",
       "      <td>Social work in health care</td>\n",
       "      <td>2001-03-28 10:01:00</td>\n",
       "      <td>United States</td>\n",
       "    </tr>\n",
       "  </tbody>\n",
       "</table>\n",
       "<p>10000 rows × 11 columns</p>\n",
       "</div>"
      ],
      "text/plain": [
       "      pubmed_id publication_date  \\\n",
       "0      34548838      2021 Jul 24   \n",
       "1      34545773      2021 Sep 21   \n",
       "2      34545771      2021 Sep 21   \n",
       "3      34542018      2021 Sep 19   \n",
       "4      34533421      2021 Sep 17   \n",
       "...         ...              ...   \n",
       "9995     828309      1976 Summer   \n",
       "9996     828308      1976 Spring   \n",
       "9997     798320      1976 Spring   \n",
       "9998     138954        1976 Fall   \n",
       "9999     138953        1976 Fall   \n",
       "\n",
       "                                          article_title  \\\n",
       "0     Risk and protective factors associated with gr...   \n",
       "1     Grandparents' Mental Health and Lived Experien...   \n",
       "2     A COVID Reset: The Future of the Long-Term Car...   \n",
       "3     Experiences of LGBTQ Adults Who Have Accessed ...   \n",
       "4     Perceptions of older adults? Measuring positiv...   \n",
       "...                                                 ...   \n",
       "9995  Social work in the nursing home: a need and an...   \n",
       "9996  Soft services: a major, cost-effective compone...   \n",
       "9997    Dialysis and transplantation: a mothers' group.   \n",
       "9998  The social work component in community-based a...   \n",
       "9999        Psychosocial aspects of genetic counseling.   \n",
       "\n",
       "                                               abstract  \\\n",
       "0     COVID-19 and its related policy measures have ...   \n",
       "1     Understanding grandparents' lived experiences ...   \n",
       "2                                                   NaN   \n",
       "3     This study examines the experiences of adults ...   \n",
       "4     The COVID-19 pandemic has disproportionately i...   \n",
       "...                                                 ...   \n",
       "9995  Working on a Nursing Home Demonstration Projec...   \n",
       "9996                                                NaN   \n",
       "9997  Two social workers are helping mothers of tran...   \n",
       "9998  When the Delaware Valley chapter of the Commit...   \n",
       "9999  A competent and effective genetic counselor mu...   \n",
       "\n",
       "                                                authors language  \\\n",
       "0     [{'author': 'Xu, Yanfeng', 'author_abbreviated...      eng   \n",
       "1     [{'author': 'Zakari, Nazik M A', 'author_abbre...      eng   \n",
       "2     [{'author': 'Nelson, H Wayne', 'author_abbrevi...      eng   \n",
       "3     [{'author': 'Ecker, John', 'author_abbreviated...      eng   \n",
       "4     [{'author': 'Carlson, Kristy J', 'author_abbre...      eng   \n",
       "...                                                 ...      ...   \n",
       "9995  [{'author': 'Jorgensen, L A', 'author_abbrevia...      eng   \n",
       "9996  [{'author': 'Nason, F', 'author_abbreviated': ...      eng   \n",
       "9997  [{'author': 'Glass, L', 'author_abbreviated': ...      eng   \n",
       "9998  [{'author': 'Miller, E', 'author_abbreviated':...      eng   \n",
       "9999  [{'author': 'Murray, R F Jr', 'author_abbrevia...      eng   \n",
       "\n",
       "                                          document_type  \\\n",
       "0                                     [Journal Article]   \n",
       "1                                     [Journal Article]   \n",
       "2                                     [Journal Article]   \n",
       "3                                     [Journal Article]   \n",
       "4                                     [Journal Article]   \n",
       "...                                                 ...   \n",
       "9995  [Journal Article, Research Support, U.S. Gov't...   \n",
       "9996                    [Case Reports, Journal Article]   \n",
       "9997                                  [Journal Article]   \n",
       "9998                                  [Journal Article]   \n",
       "9999  [Journal Article, Research Support, U.S. Gov't...   \n",
       "\n",
       "                journal_abbv                                journal  \\\n",
       "0         Child Fam Soc Work             Child & family social work   \n",
       "1        J Gerontol Soc Work  Journal of gerontological social work   \n",
       "2        J Gerontol Soc Work  Journal of gerontological social work   \n",
       "3     Soc Work Public Health           Social work in public health   \n",
       "4        J Gerontol Soc Work  Journal of gerontological social work   \n",
       "...                      ...                                    ...   \n",
       "9995    Soc Work Health Care             Social work in health care   \n",
       "9996    Soc Work Health Care             Social work in health care   \n",
       "9997    Soc Work Health Care             Social work in health care   \n",
       "9998    Soc Work Health Care             Social work in health care   \n",
       "9999    Soc Work Health Care             Social work in health care   \n",
       "\n",
       "            medline_time place_of_publication  \n",
       "0    2021-09-23 06:00:00                  NaN  \n",
       "1    2021-09-22 06:00:00        United States  \n",
       "2    2021-09-22 06:00:00        United States  \n",
       "3    2021-09-21 06:00:00        United States  \n",
       "4    2021-09-18 06:00:00        United States  \n",
       "...                  ...                  ...  \n",
       "9995 1976-01-01 00:01:00        United States  \n",
       "9996 1976-01-01 00:01:00        United States  \n",
       "9997 1976-01-01 00:01:00        United States  \n",
       "9998 1976-01-01 00:01:00        United States  \n",
       "9999 2001-03-28 10:01:00        United States  \n",
       "\n",
       "[10000 rows x 11 columns]"
      ]
     },
     "execution_count": 8,
     "metadata": {},
     "output_type": "execute_result"
    }
   ],
   "source": [
    "pubmed = pubmed.iloc[ : , [0,7,8,9,11,12, 13, 15, 16, 26, 31]]\n",
    "\n",
    "pubmed.rename(columns = {'pubmed_ID' :'ID_PubMed', 'title':'article_title', \n",
    "                         'publication_types':'document_type', \n",
    "                         'journal_abbreviated':'journal_abbv'})"
   ]
  },
  {
   "cell_type": "markdown",
   "id": "61fb1854-137a-4b77-9cf4-112d711a18f7",
   "metadata": {},
   "source": [
    "### Prepare _EBSCOhost_"
   ]
  },
  {
   "cell_type": "code",
   "execution_count": null,
   "id": "3c311b7a-22ba-48ac-a545-9cf782905351",
   "metadata": {},
   "outputs": [
    {
     "name": "stdout",
     "output_type": "stream",
     "text": [
      "/Users/brian/Coding/Data/SocialWorkJournals/EBSCO\n"
     ]
    }
   ],
   "source": [
    "\n",
    "%cd '/Users/brian/Coding/Data/SocialWorkJournals/EBSCO/'\n",
    "\n",
    "# Make sure the directory is in the right place.\n",
    "# Write to a file and reead back in to increase performance\n",
    "\n",
    "files = glob('*.ris')\n",
    "\n",
    "ebsco = pd.DataFrame()\n",
    "for file in files:\n",
    "    with open(file, errors=\"ignore\") as bibliography_file:\n",
    "        entries = readris(bibliography_file)\n",
    "        for entry in entries:\n",
    "            try:\n",
    "                # Added to handle an unknown tag\n",
    "                del entry['unknown_tag']\n",
    "            except:\n",
    "                fail = 0\n",
    "            # Changes from dict form to dataframe form.\n",
    "            df = pd.DataFrame.from_dict(entry, orient='index')\n",
    "            df = df.transpose()\n",
    "            holder = pd.DataFrame.from_dict(df)\n",
    "            ebsco = ebsco.append(holder)\n"
   ]
  },
  {
   "cell_type": "code",
   "execution_count": null,
   "id": "0ea25c70-e60e-4569-8484-0e43467b8927",
   "metadata": {},
   "outputs": [],
   "source": [
    "\n",
    "ebsco = ebsco.iloc[ :,[1,2,3,5,8,9,10,13,15,17]]\n",
    "\n",
    "ebsco.columns = ['authors', 'article_title', 'journal', 'publication_date_full',\\\n",
    "                 'document_type', 'start_page', 'end_page', 'abstract', \\\n",
    "                 'notes', 'data_source']\n",
    "ebsco.head()\n"
   ]
  },
  {
   "cell_type": "markdown",
   "id": "2fc4f2d8-2128-479f-9e38-aa594d5ca292",
   "metadata": {},
   "source": [
    "# Prepare the final database"
   ]
  },
  {
   "cell_type": "code",
   "execution_count": null,
   "id": "0f1eb659-a675-449f-a7f9-5e23d52773f5",
   "metadata": {},
   "outputs": [],
   "source": [
    "# Put in order of quality\n",
    "final = pd.concat([pubmed, wos, ebsco])"
   ]
  },
  {
   "cell_type": "code",
   "execution_count": null,
   "id": "da468b06-f3a1-4e86-bbe8-c5a09fafe66b",
   "metadata": {},
   "outputs": [],
   "source": [
    "final.head()\n"
   ]
  },
  {
   "cell_type": "code",
   "execution_count": null,
   "id": "9f583321-a9a3-44dc-b8ac-040fce9f48e4",
   "metadata": {},
   "outputs": [],
   "source": [
    "final.shape"
   ]
  },
  {
   "cell_type": "code",
   "execution_count": null,
   "id": "e181f727-2af7-4cda-baff-3ac0c9ede48f",
   "metadata": {},
   "outputs": [],
   "source": [
    "# group_count = final.groupby('journal').size().reset_index()\n",
    "# group_count.columns = ['journal', 'journal_count']\n",
    "# final = pd.merge(final, group_count, left_on='journal', right_on = 'journal')\n",
    "\n",
    "\n",
    "\n",
    "#df = pd.DataFrame(s).reset_index()\n",
    "#df.columns = ['Gene', 'count']\n"
   ]
  },
  {
   "cell_type": "code",
   "execution_count": null,
   "id": "e6f42145-8c2c-4c77-9c41-78a2c44e1e36",
   "metadata": {},
   "outputs": [],
   "source": [
    "end_time = time.time()\n",
    "print((end_time-start_time)/60)"
   ]
  }
 ],
 "metadata": {
  "kernelspec": {
   "display_name": "Python 3 (ipykernel)",
   "language": "python",
   "name": "python3"
  },
  "language_info": {
   "codemirror_mode": {
    "name": "ipython",
    "version": 3
   },
   "file_extension": ".py",
   "mimetype": "text/x-python",
   "name": "python",
   "nbconvert_exporter": "python",
   "pygments_lexer": "ipython3",
   "version": "3.8.12"
  }
 },
 "nbformat": 4,
 "nbformat_minor": 5
}
